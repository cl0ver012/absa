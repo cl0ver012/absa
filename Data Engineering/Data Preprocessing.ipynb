{
 "cells": [
  {
   "cell_type": "code",
   "execution_count": 1,
   "id": "1c612b10",
   "metadata": {},
   "outputs": [],
   "source": [
    "#Importing necessary libraries \n",
    "import pandas as pd\n",
    "import re\n",
    "import numpy as np\n",
    "import nltk\n",
    "from nltk.stem import WordNetLemmatizer \n",
    "from nltk.stem import PorterStemmer\n",
    "from collections import Counter \n",
    "from tqdm import tqdm\n",
    "from nltk.corpus import stopwords"
   ]
  },
  {
   "cell_type": "code",
   "execution_count": 2,
   "id": "219cfe24",
   "metadata": {},
   "outputs": [],
   "source": [
    "import time"
   ]
  },
  {
   "cell_type": "code",
   "execution_count": 3,
   "id": "882241de",
   "metadata": {},
   "outputs": [],
   "source": [
    "df = pd.read_csv(\"../Dataset/train - train.csv\")"
   ]
  },
  {
   "cell_type": "code",
   "execution_count": 4,
   "id": "0336b1fe",
   "metadata": {},
   "outputs": [
    {
     "data": {
      "text/html": [
       "<div>\n",
       "<style scoped>\n",
       "    .dataframe tbody tr th:only-of-type {\n",
       "        vertical-align: middle;\n",
       "    }\n",
       "\n",
       "    .dataframe tbody tr th {\n",
       "        vertical-align: top;\n",
       "    }\n",
       "\n",
       "    .dataframe thead th {\n",
       "        text-align: right;\n",
       "    }\n",
       "</style>\n",
       "<table border=\"1\" class=\"dataframe\">\n",
       "  <thead>\n",
       "    <tr style=\"text-align: right;\">\n",
       "      <th></th>\n",
       "      <th>text</th>\n",
       "      <th>aspect</th>\n",
       "      <th>label</th>\n",
       "    </tr>\n",
       "  </thead>\n",
       "  <tbody>\n",
       "    <tr>\n",
       "      <th>0</th>\n",
       "      <td>can you check whether its cancelled completely?</td>\n",
       "      <td>cancelled</td>\n",
       "      <td>1</td>\n",
       "    </tr>\n",
       "    <tr>\n",
       "      <th>1</th>\n",
       "      <td>cannot rely on both milk delivery and grocery ...</td>\n",
       "      <td>Milk</td>\n",
       "      <td>0</td>\n",
       "    </tr>\n",
       "    <tr>\n",
       "      <th>2</th>\n",
       "      <td>I get no notification, however the app is real...</td>\n",
       "      <td>notification</td>\n",
       "      <td>0</td>\n",
       "    </tr>\n",
       "    <tr>\n",
       "      <th>3</th>\n",
       "      <td>Love this app, but would love it even more if ...</td>\n",
       "      <td>view</td>\n",
       "      <td>1</td>\n",
       "    </tr>\n",
       "    <tr>\n",
       "      <th>4</th>\n",
       "      <td>it does not let me load a clip on the scene</td>\n",
       "      <td>load</td>\n",
       "      <td>0</td>\n",
       "    </tr>\n",
       "  </tbody>\n",
       "</table>\n",
       "</div>"
      ],
      "text/plain": [
       "                                                text        aspect  label\n",
       "0    can you check whether its cancelled completely?     cancelled      1\n",
       "1  cannot rely on both milk delivery and grocery ...          Milk      0\n",
       "2  I get no notification, however the app is real...  notification      0\n",
       "3  Love this app, but would love it even more if ...          view      1\n",
       "4        it does not let me load a clip on the scene          load      0"
      ]
     },
     "execution_count": 4,
     "metadata": {},
     "output_type": "execute_result"
    }
   ],
   "source": [
    "df.head()"
   ]
  },
  {
   "cell_type": "code",
   "execution_count": 5,
   "id": "40c9e1bc",
   "metadata": {},
   "outputs": [],
   "source": [
    "data =df.copy()"
   ]
  },
  {
   "cell_type": "code",
   "execution_count": 6,
   "id": "d818942d",
   "metadata": {},
   "outputs": [
    {
     "data": {
      "text/html": [
       "<div>\n",
       "<style scoped>\n",
       "    .dataframe tbody tr th:only-of-type {\n",
       "        vertical-align: middle;\n",
       "    }\n",
       "\n",
       "    .dataframe tbody tr th {\n",
       "        vertical-align: top;\n",
       "    }\n",
       "\n",
       "    .dataframe thead th {\n",
       "        text-align: right;\n",
       "    }\n",
       "</style>\n",
       "<table border=\"1\" class=\"dataframe\">\n",
       "  <thead>\n",
       "    <tr style=\"text-align: right;\">\n",
       "      <th></th>\n",
       "      <th>text</th>\n",
       "      <th>aspect</th>\n",
       "      <th>label</th>\n",
       "    </tr>\n",
       "  </thead>\n",
       "  <tbody>\n",
       "    <tr>\n",
       "      <th>3995</th>\n",
       "      <td>every time i try to edit a page or create a li...</td>\n",
       "      <td>tools</td>\n",
       "      <td>0</td>\n",
       "    </tr>\n",
       "    <tr>\n",
       "      <th>3996</th>\n",
       "      <td>unable to load money using wallets (phonepe/ol...</td>\n",
       "      <td>Unable to load money using wallets</td>\n",
       "      <td>0</td>\n",
       "    </tr>\n",
       "    <tr>\n",
       "      <th>3997</th>\n",
       "      <td>hi, i m doing for the first time ever and i no...</td>\n",
       "      <td>usage</td>\n",
       "      <td>0</td>\n",
       "    </tr>\n",
       "    <tr>\n",
       "      <th>3998</th>\n",
       "      <td>delivery is delayed or cancelled every time i ...</td>\n",
       "      <td>Delivery</td>\n",
       "      <td>0</td>\n",
       "    </tr>\n",
       "    <tr>\n",
       "      <th>3999</th>\n",
       "      <td>your customer service is terrible!</td>\n",
       "      <td>customer service</td>\n",
       "      <td>0</td>\n",
       "    </tr>\n",
       "  </tbody>\n",
       "</table>\n",
       "</div>"
      ],
      "text/plain": [
       "                                                   text  \\\n",
       "3995  every time i try to edit a page or create a li...   \n",
       "3996  unable to load money using wallets (phonepe/ol...   \n",
       "3997  hi, i m doing for the first time ever and i no...   \n",
       "3998  delivery is delayed or cancelled every time i ...   \n",
       "3999                 your customer service is terrible!   \n",
       "\n",
       "                                  aspect  label  \n",
       "3995                               tools      0  \n",
       "3996  Unable to load money using wallets      0  \n",
       "3997                               usage      0  \n",
       "3998                            Delivery      0  \n",
       "3999                    customer service      0  "
      ]
     },
     "execution_count": 6,
     "metadata": {},
     "output_type": "execute_result"
    }
   ],
   "source": [
    "data.tail()"
   ]
  },
  {
   "cell_type": "code",
   "execution_count": 7,
   "id": "69135fef",
   "metadata": {},
   "outputs": [],
   "source": [
    "#Function for cleaning the data\n",
    "wnl=WordNetLemmatizer()\n",
    "def clean_data(in_data):\n",
    "    corpus=[]\n",
    "    for i in range(0,len(in_data)):\n",
    "        review = re.sub('[^a-zA-Z]',' ',in_data[i])\n",
    "        review = review.lower()\n",
    "        review = review.split()\n",
    "        review = [wnl.lemmatize(word) for word in review if not word in stopwords.words('english')]\n",
    "        review = ' '.join(review)\n",
    "        corpus.append(review)\n",
    "    return corpus"
   ]
  },
  {
   "cell_type": "code",
   "execution_count": 8,
   "id": "f2651b5e",
   "metadata": {},
   "outputs": [
    {
     "name": "stdout",
     "output_type": "stream",
     "text": [
      "----%.2f seconds---- 25.69522523880005\n"
     ]
    }
   ],
   "source": [
    "start_time=time.time()\n",
    "text_parsed_list = clean_data(data['text'])\n",
    "print(\"----%.2f seconds----\",(time.time()-start_time))"
   ]
  },
  {
   "cell_type": "code",
   "execution_count": 9,
   "id": "60126ac9",
   "metadata": {},
   "outputs": [
    {
     "data": {
      "text/plain": [
       "'check whether cancelled completely'"
      ]
     },
     "execution_count": 9,
     "metadata": {},
     "output_type": "execute_result"
    }
   ],
   "source": [
    "text_parsed_list[0]"
   ]
  },
  {
   "cell_type": "code",
   "execution_count": 10,
   "id": "c4227f44",
   "metadata": {},
   "outputs": [
    {
     "name": "stdout",
     "output_type": "stream",
     "text": [
      "----%.2f seconds---- 1.8804693222045898\n"
     ]
    }
   ],
   "source": [
    "start_time=time.time()\n",
    "aspect_parsed_list = clean_data(data['aspect'])\n",
    "print(\"----%.2f seconds----\",(time.time()-start_time))"
   ]
  },
  {
   "cell_type": "code",
   "execution_count": 11,
   "id": "a974e0fc",
   "metadata": {},
   "outputs": [
    {
     "data": {
      "text/plain": [
       "'cancelled'"
      ]
     },
     "execution_count": 11,
     "metadata": {},
     "output_type": "execute_result"
    }
   ],
   "source": [
    "aspect_parsed_list[0]"
   ]
  },
  {
   "cell_type": "code",
   "execution_count": 12,
   "id": "318d5e0c",
   "metadata": {},
   "outputs": [],
   "source": [
    "data['text_parsed']=text_parsed_list\n",
    "data['aspect_parsed']=aspect_parsed_list"
   ]
  },
  {
   "cell_type": "code",
   "execution_count": 13,
   "id": "85c00ec5",
   "metadata": {},
   "outputs": [
    {
     "data": {
      "text/html": [
       "<div>\n",
       "<style scoped>\n",
       "    .dataframe tbody tr th:only-of-type {\n",
       "        vertical-align: middle;\n",
       "    }\n",
       "\n",
       "    .dataframe tbody tr th {\n",
       "        vertical-align: top;\n",
       "    }\n",
       "\n",
       "    .dataframe thead th {\n",
       "        text-align: right;\n",
       "    }\n",
       "</style>\n",
       "<table border=\"1\" class=\"dataframe\">\n",
       "  <thead>\n",
       "    <tr style=\"text-align: right;\">\n",
       "      <th></th>\n",
       "      <th>text</th>\n",
       "      <th>aspect</th>\n",
       "      <th>label</th>\n",
       "      <th>text_parsed</th>\n",
       "      <th>aspect_parsed</th>\n",
       "    </tr>\n",
       "  </thead>\n",
       "  <tbody>\n",
       "    <tr>\n",
       "      <th>0</th>\n",
       "      <td>can you check whether its cancelled completely?</td>\n",
       "      <td>cancelled</td>\n",
       "      <td>1</td>\n",
       "      <td>check whether cancelled completely</td>\n",
       "      <td>cancelled</td>\n",
       "    </tr>\n",
       "    <tr>\n",
       "      <th>1</th>\n",
       "      <td>cannot rely on both milk delivery and grocery ...</td>\n",
       "      <td>Milk</td>\n",
       "      <td>0</td>\n",
       "      <td>cannot rely milk delivery grocery item</td>\n",
       "      <td>milk</td>\n",
       "    </tr>\n",
       "    <tr>\n",
       "      <th>2</th>\n",
       "      <td>I get no notification, however the app is real...</td>\n",
       "      <td>notification</td>\n",
       "      <td>0</td>\n",
       "      <td>get notification however app really fine</td>\n",
       "      <td>notification</td>\n",
       "    </tr>\n",
       "    <tr>\n",
       "      <th>3</th>\n",
       "      <td>Love this app, but would love it even more if ...</td>\n",
       "      <td>view</td>\n",
       "      <td>1</td>\n",
       "      <td>love app would love even gantt chart calendar ...</td>\n",
       "      <td>view</td>\n",
       "    </tr>\n",
       "    <tr>\n",
       "      <th>4</th>\n",
       "      <td>it does not let me load a clip on the scene</td>\n",
       "      <td>load</td>\n",
       "      <td>0</td>\n",
       "      <td>let load clip scene</td>\n",
       "      <td>load</td>\n",
       "    </tr>\n",
       "  </tbody>\n",
       "</table>\n",
       "</div>"
      ],
      "text/plain": [
       "                                                text        aspect  label  \\\n",
       "0    can you check whether its cancelled completely?     cancelled      1   \n",
       "1  cannot rely on both milk delivery and grocery ...          Milk      0   \n",
       "2  I get no notification, however the app is real...  notification      0   \n",
       "3  Love this app, but would love it even more if ...          view      1   \n",
       "4        it does not let me load a clip on the scene          load      0   \n",
       "\n",
       "                                         text_parsed aspect_parsed  \n",
       "0                 check whether cancelled completely     cancelled  \n",
       "1             cannot rely milk delivery grocery item          milk  \n",
       "2           get notification however app really fine  notification  \n",
       "3  love app would love even gantt chart calendar ...          view  \n",
       "4                                let load clip scene          load  "
      ]
     },
     "execution_count": 13,
     "metadata": {},
     "output_type": "execute_result"
    }
   ],
   "source": [
    "data.head()"
   ]
  },
  {
   "cell_type": "code",
   "execution_count": 14,
   "id": "58902895",
   "metadata": {},
   "outputs": [
    {
     "data": {
      "text/plain": [
       "text             0\n",
       "aspect           0\n",
       "label            0\n",
       "text_parsed      0\n",
       "aspect_parsed    0\n",
       "dtype: int64"
      ]
     },
     "execution_count": 14,
     "metadata": {},
     "output_type": "execute_result"
    }
   ],
   "source": [
    "data.isnull().sum()"
   ]
  },
  {
   "cell_type": "code",
   "execution_count": 15,
   "id": "b0a3367a",
   "metadata": {},
   "outputs": [],
   "source": [
    "stop_words = ['i', 'me', 'my', 'myself', 'we', 'our', 'ours', 'ourselves', 'you', \"you're\", \"you've\",\\\n",
    "            \"you'll\", \"you'd\", 'your', 'yours', 'yourself', 'yourselves', 'he', 'him', 'his', 'himself', \\\n",
    "            'she', \"she's\", 'her', 'hers', 'herself', 'it', \"it's\", 'its', 'itself', 'they', 'them', 'their',\\\n",
    "            'theirs', 'themselves', 'what', 'which', 'who', 'whom', 'this', 'that', \"that'll\", 'these', 'those', \\\n",
    "            'am', 'is', 'are', 'was', 'were', 'be', 'been', 'being', 'have', 'has', 'had', 'having', 'do', 'does', \\\n",
    "            'did', 'doing', 'a', 'an', 'the', 'and', 'but', 'if', 'or', 'because', 'as', 'until', 'while', 'of', \\\n",
    "            'at', 'by', 'for', 'with', 'about', 'against', 'between', 'into', 'through', 'during', 'before', 'after',\\\n",
    "            'above', 'below', 'to', 'from', 'up', 'down', 'in', 'out', 'on', 'off', 'over', 'under', 'again', 'further',\\\n",
    "            'then', 'once', 'here', 'there', 'when', 'where', 'why', 'how', 'all', 'any', 'both', 'each', 'few', 'more',\\\n",
    "            'most', 'other', 'some', 'such', 'only', 'own', 'same', 'so', 'than', 'too', 'very', \\\n",
    "            's', 't', 'can', 'will', 'just', 'don', \"don't\", 'should', \"should've\", 'now', 'd', 'll', 'm', 'o', 're', \\\n",
    "            've', 'y', 'ain', 'aren', \"aren't\", 'couldn', \"couldn't\", 'didn', \"didn't\", 'doesn', \"doesn't\", 'hadn',\\\n",
    "            \"hadn't\", 'hasn', \"hasn't\", 'haven', \"haven't\", 'isn', \"isn't\", 'ma', 'mightn', \"mightn't\", 'mustn',\\\n",
    "            \"mustn't\", 'needn', \"needn't\", 'shan', \"shan't\", 'shouldn', \"shouldn't\", 'wasn', \"wasn't\", 'weren', \"weren't\", \\\n",
    "            'won', \"won't\", 'wouldn', \"wouldn't\"]"
   ]
  },
  {
   "cell_type": "code",
   "execution_count": 27,
   "id": "89524c27",
   "metadata": {},
   "outputs": [],
   "source": [
    "p_stemmer = PorterStemmer()\n",
    "lemmatizer = WordNetLemmatizer ()"
   ]
  },
  {
   "cell_type": "code",
   "execution_count": 28,
   "id": "446a55e0",
   "metadata": {},
   "outputs": [],
   "source": [
    "def decontracted(phrase):\n",
    "    # specific\n",
    "    phrase = re.sub(r\"won't\", \"will not\", phrase)      # replace won't with \"will not\"\n",
    "    phrase = re.sub(r\"can\\'t\", \"can not\", phrase)      # replace can or cant with 'can not'\n",
    "    phrase = re.sub(r\"n\\'t\", \" not\", phrase)           # replece n with 'not'\n",
    "    phrase = re.sub(r\"\\'re\", \" are\", phrase)           # replace re with 'are'\n",
    "    phrase = re.sub(r\"\\'s\", \" is\", phrase)             # replace s with 'is'\n",
    "    phrase = re.sub(r\"\\'d\", \" would\", phrase)          # replace 'd' with 'would'\n",
    "    phrase = re.sub(r\"\\'ll\", \" will\", phrase)          # replace 'll with 'will'\n",
    "    phrase = re.sub(r\"\\'t\", \" not\", phrase)            # replace 't' with 'not'\n",
    "    phrase = re.sub(r\"\\'ve\", \" have\", phrase)          # replace ve with 'have'\n",
    "    phrase = re.sub(r\"\\'m\", \" am\", phrase)             # replace 'm with 'am'\n",
    "    return phrase\n",
    "\n",
    "  \n",
    "def preprocess_text(text_data):\n",
    "    preprocessed_text = []             \n",
    "    # tqdm is for printing the status bar\n",
    "    for sentance in tqdm(text_data):\n",
    "        sent = decontracted(sentance)           #calling funcion for each sentence\n",
    "        #print(\"1st sent\" , sent)\n",
    "        sent = sent.replace('\\\\r', ' ')         # replace line terminator with space\n",
    "        sent = sent.replace('\\\\n', ' ')         # replace new line charactor with space\n",
    "        sent = sent.replace('\\\\\"', ' ')         \n",
    "        sent = re.sub('[^A-Za-z]+', ' ', sent)  # remove anything that is not letter\n",
    "        sent = ''.join(p_stemmer.stem(token) for token in sent )\n",
    "        sent = ''.join(lemmatizer.lemmatize(token) for token in sent )\n",
    "        sent  = ' '.join(e for e in sent.split() if len( Counter(e)) > 2 )\n",
    "        #sent = lstr(emmatize_text(sent)\n",
    "        \n",
    "        sent = ' '.join(e for e in sent.split() if e.lower() not in 'root/nltk_data/corpora/stop_words') # checking for stop words\n",
    "        preprocessed_text.append(sent.lower().strip())\n",
    "    return preprocessed_text"
   ]
  },
  {
   "cell_type": "code",
   "execution_count": 34,
   "id": "bfdef9d1",
   "metadata": {},
   "outputs": [],
   "source": [
    "data1=df.copy()"
   ]
  },
  {
   "cell_type": "code",
   "execution_count": 35,
   "id": "566b882e",
   "metadata": {},
   "outputs": [
    {
     "name": "stderr",
     "output_type": "stream",
     "text": [
      "100%|████████████████████████████████████████████████████████████████████████████| 4000/4000 [00:02<00:00, 1610.06it/s]\n"
     ]
    }
   ],
   "source": [
    "data1['text']=preprocess_text(data1['text'])"
   ]
  },
  {
   "cell_type": "code",
   "execution_count": 37,
   "id": "0bc2f7fa",
   "metadata": {},
   "outputs": [
    {
     "data": {
      "text/html": [
       "<div>\n",
       "<style scoped>\n",
       "    .dataframe tbody tr th:only-of-type {\n",
       "        vertical-align: middle;\n",
       "    }\n",
       "\n",
       "    .dataframe tbody tr th {\n",
       "        vertical-align: top;\n",
       "    }\n",
       "\n",
       "    .dataframe thead th {\n",
       "        text-align: right;\n",
       "    }\n",
       "</style>\n",
       "<table border=\"1\" class=\"dataframe\">\n",
       "  <thead>\n",
       "    <tr style=\"text-align: right;\">\n",
       "      <th></th>\n",
       "      <th>text</th>\n",
       "      <th>aspect</th>\n",
       "      <th>label</th>\n",
       "    </tr>\n",
       "  </thead>\n",
       "  <tbody>\n",
       "    <tr>\n",
       "      <th>0</th>\n",
       "      <td>can you check whether its cancelled completely</td>\n",
       "      <td>cancelled</td>\n",
       "      <td>1</td>\n",
       "    </tr>\n",
       "    <tr>\n",
       "      <th>1</th>\n",
       "      <td>cannot rely both milk delivery and grocery items</td>\n",
       "      <td>Milk</td>\n",
       "      <td>0</td>\n",
       "    </tr>\n",
       "    <tr>\n",
       "      <th>2</th>\n",
       "      <td>get notification however the really fine</td>\n",
       "      <td>notification</td>\n",
       "      <td>0</td>\n",
       "    </tr>\n",
       "    <tr>\n",
       "      <th>3</th>\n",
       "      <td>love this but would love even more gantt chart...</td>\n",
       "      <td>view</td>\n",
       "      <td>1</td>\n",
       "    </tr>\n",
       "    <tr>\n",
       "      <th>4</th>\n",
       "      <td>does not let load clip the scene</td>\n",
       "      <td>load</td>\n",
       "      <td>0</td>\n",
       "    </tr>\n",
       "  </tbody>\n",
       "</table>\n",
       "</div>"
      ],
      "text/plain": [
       "                                                text        aspect  label\n",
       "0     can you check whether its cancelled completely     cancelled      1\n",
       "1   cannot rely both milk delivery and grocery items          Milk      0\n",
       "2           get notification however the really fine  notification      0\n",
       "3  love this but would love even more gantt chart...          view      1\n",
       "4                   does not let load clip the scene          load      0"
      ]
     },
     "execution_count": 37,
     "metadata": {},
     "output_type": "execute_result"
    }
   ],
   "source": [
    "data1.head()"
   ]
  },
  {
   "cell_type": "code",
   "execution_count": 39,
   "id": "b20b3730",
   "metadata": {},
   "outputs": [
    {
     "data": {
      "text/plain": [
       "(4000, 3)"
      ]
     },
     "execution_count": 39,
     "metadata": {},
     "output_type": "execute_result"
    }
   ],
   "source": [
    "data1.shape"
   ]
  },
  {
   "cell_type": "code",
   "execution_count": 40,
   "id": "20d07418",
   "metadata": {},
   "outputs": [],
   "source": [
    "data1.to_csv('../Dataset/Train.csv')"
   ]
  },
  {
   "cell_type": "code",
   "execution_count": null,
   "id": "304a886b",
   "metadata": {},
   "outputs": [],
   "source": []
  }
 ],
 "metadata": {
  "kernelspec": {
   "display_name": "Python 3 (ipykernel)",
   "language": "python",
   "name": "python3"
  },
  "language_info": {
   "codemirror_mode": {
    "name": "ipython",
    "version": 3
   },
   "file_extension": ".py",
   "mimetype": "text/x-python",
   "name": "python",
   "nbconvert_exporter": "python",
   "pygments_lexer": "ipython3",
   "version": "3.9.7"
  }
 },
 "nbformat": 4,
 "nbformat_minor": 5
}
