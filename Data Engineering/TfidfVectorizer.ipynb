{
 "cells": [
  {
   "cell_type": "code",
   "execution_count": 1,
   "id": "1c612b10",
   "metadata": {},
   "outputs": [],
   "source": [
    "#Importing necessary libraries \n",
    "import numpy as np\n",
    "import pandas as pd\n",
    "import matplotlib.pyplot as plt\n",
    "import nltk"
   ]
  },
  {
   "cell_type": "code",
   "execution_count": 2,
   "id": "ba614d1c",
   "metadata": {},
   "outputs": [],
   "source": [
    "from sklearn.model_selection import train_test_split"
   ]
  },
  {
   "cell_type": "code",
   "execution_count": 3,
   "id": "882241de",
   "metadata": {},
   "outputs": [],
   "source": [
    "df = pd.read_csv(\"../Dataset/Train.csv\")"
   ]
  },
  {
   "cell_type": "code",
   "execution_count": 4,
   "id": "0336b1fe",
   "metadata": {},
   "outputs": [
    {
     "data": {
      "text/html": [
       "<div>\n",
       "<style scoped>\n",
       "    .dataframe tbody tr th:only-of-type {\n",
       "        vertical-align: middle;\n",
       "    }\n",
       "\n",
       "    .dataframe tbody tr th {\n",
       "        vertical-align: top;\n",
       "    }\n",
       "\n",
       "    .dataframe thead th {\n",
       "        text-align: right;\n",
       "    }\n",
       "</style>\n",
       "<table border=\"1\" class=\"dataframe\">\n",
       "  <thead>\n",
       "    <tr style=\"text-align: right;\">\n",
       "      <th></th>\n",
       "      <th>Unnamed: 0</th>\n",
       "      <th>text</th>\n",
       "      <th>aspect</th>\n",
       "      <th>label</th>\n",
       "    </tr>\n",
       "  </thead>\n",
       "  <tbody>\n",
       "    <tr>\n",
       "      <th>0</th>\n",
       "      <td>0</td>\n",
       "      <td>can you check whether its cancelled completely</td>\n",
       "      <td>cancelled</td>\n",
       "      <td>1</td>\n",
       "    </tr>\n",
       "    <tr>\n",
       "      <th>1</th>\n",
       "      <td>1</td>\n",
       "      <td>cannot rely both milk delivery and grocery items</td>\n",
       "      <td>Milk</td>\n",
       "      <td>0</td>\n",
       "    </tr>\n",
       "    <tr>\n",
       "      <th>2</th>\n",
       "      <td>2</td>\n",
       "      <td>get notification however the really fine</td>\n",
       "      <td>notification</td>\n",
       "      <td>0</td>\n",
       "    </tr>\n",
       "    <tr>\n",
       "      <th>3</th>\n",
       "      <td>3</td>\n",
       "      <td>love this but would love even more gantt chart...</td>\n",
       "      <td>view</td>\n",
       "      <td>1</td>\n",
       "    </tr>\n",
       "    <tr>\n",
       "      <th>4</th>\n",
       "      <td>4</td>\n",
       "      <td>does not let load clip the scene</td>\n",
       "      <td>load</td>\n",
       "      <td>0</td>\n",
       "    </tr>\n",
       "  </tbody>\n",
       "</table>\n",
       "</div>"
      ],
      "text/plain": [
       "   Unnamed: 0                                               text  \\\n",
       "0           0     can you check whether its cancelled completely   \n",
       "1           1   cannot rely both milk delivery and grocery items   \n",
       "2           2           get notification however the really fine   \n",
       "3           3  love this but would love even more gantt chart...   \n",
       "4           4                   does not let load clip the scene   \n",
       "\n",
       "         aspect  label  \n",
       "0     cancelled      1  \n",
       "1          Milk      0  \n",
       "2  notification      0  \n",
       "3          view      1  \n",
       "4          load      0  "
      ]
     },
     "execution_count": 4,
     "metadata": {},
     "output_type": "execute_result"
    }
   ],
   "source": [
    "df.head()"
   ]
  },
  {
   "cell_type": "code",
   "execution_count": 5,
   "id": "47b89163",
   "metadata": {},
   "outputs": [
    {
     "data": {
      "text/plain": [
       "'the desktop version simply awesome comparatively'"
      ]
     },
     "execution_count": 5,
     "metadata": {},
     "output_type": "execute_result"
    }
   ],
   "source": [
    "df['text'][12]"
   ]
  },
  {
   "cell_type": "code",
   "execution_count": 6,
   "id": "b0a3367a",
   "metadata": {},
   "outputs": [],
   "source": [
    "X1 = df['text']\n",
    "X2 = df['aspect']\n",
    "Y = df['label']"
   ]
  },
  {
   "cell_type": "code",
   "execution_count": 7,
   "id": "286a1779",
   "metadata": {},
   "outputs": [],
   "source": [
    "X1_train, X1_test, y1_train, y1_test = train_test_split(X1, Y, test_size=0.2, random_state=100)\n",
    "X2_train, X2_test, y2_train, y2_test = train_test_split(X2, Y, test_size=0.2, random_state=100)"
   ]
  },
  {
   "cell_type": "code",
   "execution_count": 8,
   "id": "12d3964d",
   "metadata": {},
   "outputs": [
    {
     "name": "stdout",
     "output_type": "stream",
     "text": [
      "(3200,) (3200,)\n",
      "(800,) (800,)\n",
      "(3200,) (3200,)\n",
      "(800,) (800,)\n"
     ]
    }
   ],
   "source": [
    "print(X1_train.shape, y1_train.shape)\n",
    "print(X1_test.shape, y1_test.shape)\n",
    "print(X2_train.shape, y2_train.shape)\n",
    "print(X2_test.shape, y2_test.shape)"
   ]
  },
  {
   "cell_type": "code",
   "execution_count": 9,
   "id": "742f606e",
   "metadata": {},
   "outputs": [],
   "source": [
    "# Parameter election\n",
    "max_features = 5000"
   ]
  },
  {
   "cell_type": "code",
   "execution_count": 11,
   "id": "cea6ad7f",
   "metadata": {},
   "outputs": [],
   "source": [
    "from sklearn.feature_extraction.text import TfidfVectorizer\n",
    "tfidf1 = TfidfVectorizer(max_features=max_features)"
   ]
  },
  {
   "cell_type": "code",
   "execution_count": 12,
   "id": "b06c604d",
   "metadata": {
    "scrolled": true
   },
   "outputs": [
    {
     "name": "stdout",
     "output_type": "stream",
     "text": [
      "(3200, 3991)\n",
      "(800, 3991)\n"
     ]
    }
   ],
   "source": [
    "tfidf1.fit(X1_train)\n",
    "features_train_tfidf1=tfidf1.transform(X1_train).toarray()\n",
    "labels_train_tfidf = y1_train\n",
    "print(features_train_tfidf1.shape)\n",
    "\n",
    "features_test_tfidf1 = tfidf1.transform(X1_test).toarray()\n",
    "labels_test_tfidf = y1_test\n",
    "print(features_test_tfidf1.shape)\n"
   ]
  },
  {
   "cell_type": "code",
   "execution_count": 14,
   "id": "c9af6e6f",
   "metadata": {},
   "outputs": [],
   "source": [
    "import pickle"
   ]
  },
  {
   "cell_type": "code",
   "execution_count": 15,
   "id": "e068bb8b",
   "metadata": {},
   "outputs": [],
   "source": [
    "with open('PickleFiles/tfidf1.pickle', 'wb') as output:\n",
    "    pickle.dump(tfidf1, output)"
   ]
  },
  {
   "cell_type": "code",
   "execution_count": 16,
   "id": "cf14fce3",
   "metadata": {},
   "outputs": [],
   "source": [
    "tfidf2 = TfidfVectorizer(max_features=max_features)"
   ]
  },
  {
   "cell_type": "code",
   "execution_count": 17,
   "id": "73fd228e",
   "metadata": {},
   "outputs": [
    {
     "name": "stdout",
     "output_type": "stream",
     "text": [
      "(3200, 896)\n",
      "(800, 896)\n"
     ]
    }
   ],
   "source": [
    "tfidf2.fit(X2_train)\n",
    "features_train_tfidf2 = tfidf2.transform(X2_train).toarray()\n",
    "print(features_train_tfidf2.shape)\n",
    "features_test_tfidf2 = tfidf2.transform(X2_test).toarray()\n",
    "print(features_test_tfidf2.shape)"
   ]
  },
  {
   "cell_type": "code",
   "execution_count": 18,
   "id": "b85b6959",
   "metadata": {},
   "outputs": [],
   "source": [
    "with open('PickleFiles/tfidf2.pickle', 'wb') as output:\n",
    "    pickle.dump(tfidf2, output)"
   ]
  },
  {
   "cell_type": "code",
   "execution_count": 13,
   "id": "a92b69fa",
   "metadata": {},
   "outputs": [
    {
     "data": {
      "text/plain": [
       "1.0"
      ]
     },
     "execution_count": 13,
     "metadata": {},
     "output_type": "execute_result"
    }
   ],
   "source": [
    "sum(features_train_tfidf2[3])"
   ]
  },
  {
   "cell_type": "code",
   "execution_count": 14,
   "id": "794090d6",
   "metadata": {},
   "outputs": [
    {
     "data": {
      "text/plain": [
       "3200"
      ]
     },
     "execution_count": 14,
     "metadata": {},
     "output_type": "execute_result"
    }
   ],
   "source": [
    "len(y1_train)"
   ]
  },
  {
   "cell_type": "code",
   "execution_count": 15,
   "id": "8e06254b",
   "metadata": {},
   "outputs": [],
   "source": [
    "X_train = np.concatenate((features_train_tfidf1, features_train_tfidf2), axis=1)\n",
    "X_test = np.concatenate((features_test_tfidf1, features_test_tfidf2), axis=1)"
   ]
  },
  {
   "cell_type": "code",
   "execution_count": 16,
   "id": "6536038c",
   "metadata": {},
   "outputs": [],
   "source": [
    "y_train = labels_train_tfidf\n",
    "y_test = labels_test_tfidf"
   ]
  },
  {
   "cell_type": "code",
   "execution_count": 17,
   "id": "0c87dbce",
   "metadata": {},
   "outputs": [],
   "source": [
    "import pickle"
   ]
  },
  {
   "cell_type": "code",
   "execution_count": 18,
   "id": "255c38ed",
   "metadata": {},
   "outputs": [],
   "source": [
    "with open('PickleFiles/features_train_tfidf1.pickle', 'wb') as output:\n",
    "    pickle.dump(features_train_tfidf1, output)"
   ]
  },
  {
   "cell_type": "code",
   "execution_count": 19,
   "id": "6afbcbad",
   "metadata": {},
   "outputs": [],
   "source": [
    "with open('PickleFiles/features_train_tfidf2.pickle', 'wb') as output:\n",
    "    pickle.dump(features_train_tfidf2, output)"
   ]
  },
  {
   "cell_type": "code",
   "execution_count": 20,
   "id": "ce554dd7",
   "metadata": {},
   "outputs": [],
   "source": [
    "with open('PickleFiles/labels_train_tfidf.pickle', 'wb') as output:\n",
    "    pickle.dump(labels_train_tfidf, output)"
   ]
  },
  {
   "cell_type": "code",
   "execution_count": 21,
   "id": "577b2dc9",
   "metadata": {},
   "outputs": [],
   "source": [
    "with open('PickleFiles/features_test_tfidf1.pickle', 'wb') as output:\n",
    "    pickle.dump(features_test_tfidf1, output)"
   ]
  },
  {
   "cell_type": "code",
   "execution_count": 22,
   "id": "73ab17eb",
   "metadata": {},
   "outputs": [],
   "source": [
    "with open('PickleFiles/features_test_tfidf2.pickle', 'wb') as output:\n",
    "    pickle.dump(features_test_tfidf2, output)"
   ]
  },
  {
   "cell_type": "code",
   "execution_count": 23,
   "id": "bda0305e",
   "metadata": {},
   "outputs": [],
   "source": [
    "with open('PickleFiles/labels_test_tfidf.pickle', 'wb') as output:\n",
    "    pickle.dump(labels_test_tfidf, output)"
   ]
  },
  {
   "cell_type": "code",
   "execution_count": 24,
   "id": "fef9eeb3",
   "metadata": {},
   "outputs": [],
   "source": [
    "with open('PickleFiles/X_train.pickle', 'wb') as output:\n",
    "    pickle.dump(X_train, output)"
   ]
  },
  {
   "cell_type": "code",
   "execution_count": 25,
   "id": "52b3d351",
   "metadata": {},
   "outputs": [],
   "source": [
    "with open('PickleFiles/X_test.pickle', 'wb') as output:\n",
    "    pickle.dump(X_test, output)"
   ]
  },
  {
   "cell_type": "code",
   "execution_count": 26,
   "id": "b66f7a2f",
   "metadata": {},
   "outputs": [],
   "source": [
    "with open('PickleFiles/y_train.pickle', 'wb') as output:\n",
    "    pickle.dump(y_train, output)"
   ]
  },
  {
   "cell_type": "code",
   "execution_count": 27,
   "id": "fb491503",
   "metadata": {},
   "outputs": [],
   "source": [
    "with open('PickleFiles/y_test.pickle', 'wb') as output:\n",
    "    pickle.dump(y_test, output)"
   ]
  },
  {
   "cell_type": "code",
   "execution_count": null,
   "id": "f27cb9f3",
   "metadata": {},
   "outputs": [],
   "source": []
  },
  {
   "cell_type": "code",
   "execution_count": null,
   "id": "22208f5c",
   "metadata": {},
   "outputs": [],
   "source": []
  },
  {
   "cell_type": "code",
   "execution_count": null,
   "id": "4c4d9aa3",
   "metadata": {},
   "outputs": [],
   "source": []
  }
 ],
 "metadata": {
  "kernelspec": {
   "display_name": "Python 3 (ipykernel)",
   "language": "python",
   "name": "python3"
  },
  "language_info": {
   "codemirror_mode": {
    "name": "ipython",
    "version": 3
   },
   "file_extension": ".py",
   "mimetype": "text/x-python",
   "name": "python",
   "nbconvert_exporter": "python",
   "pygments_lexer": "ipython3",
   "version": "3.9.7"
  }
 },
 "nbformat": 4,
 "nbformat_minor": 5
}
