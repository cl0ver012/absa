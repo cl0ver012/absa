{
 "cells": [
  {
   "cell_type": "code",
   "execution_count": 1,
   "id": "351af263",
   "metadata": {},
   "outputs": [],
   "source": [
    "import pickle\n",
    "import numpy as np\n",
    "from sklearn.feature_extraction.text import TfidfVectorizer\n",
    "from sklearn.naive_bayes import MultinomialNB\n",
    "from pprint import pprint\n",
    "from sklearn.model_selection import RandomizedSearchCV\n",
    "from sklearn.model_selection import GridSearchCV\n",
    "from sklearn.metrics import classification_report, confusion_matrix, accuracy_score\n",
    "from sklearn.model_selection import ShuffleSplit\n",
    "import matplotlib.pyplot as plt\n",
    "import seaborn as sns\n",
    "import pandas as pd"
   ]
  },
  {
   "cell_type": "code",
   "execution_count": 2,
   "id": "d0862d21",
   "metadata": {},
   "outputs": [],
   "source": [
    "with open(\"../Data Engineering/PickleFiles/X_train.pickle\", 'rb') as data:\n",
    "    X_train = pickle.load(data)\n",
    "with open(\"../Data Engineering/PickleFiles/X_test.pickle\", 'rb') as data:\n",
    "    X_test = pickle.load(data)\n",
    "with open(\"../Data Engineering/PickleFiles/y_train.pickle\", 'rb') as data:\n",
    "    y_train = pickle.load(data)\n",
    "with open(\"../Data Engineering/PickleFiles/y_test.pickle\", 'rb') as data:\n",
    "    y_test = pickle.load(data)"
   ]
  },
  {
   "cell_type": "code",
   "execution_count": 3,
   "id": "8e02cf29",
   "metadata": {},
   "outputs": [],
   "source": [
    "df1 = pd.read_csv(\"../Dataset/Train.csv\")\n",
    "df=df1.copy()\n",
    "li = []\n",
    "for i in range(len(df['label'])):\n",
    "    if(df['label'][i]==0):\n",
    "        li.append(\"Negative\")\n",
    "    elif(df['label'][i]==1):\n",
    "        li.append(\"Neutral\")\n",
    "    else:\n",
    "        li.append(\"Positive\")\n",
    "df['label_cat']=li"
   ]
  },
  {
   "cell_type": "code",
   "execution_count": 4,
   "id": "708efebd",
   "metadata": {},
   "outputs": [
    {
     "data": {
      "text/plain": [
       "MultinomialNB()"
      ]
     },
     "execution_count": 4,
     "metadata": {},
     "output_type": "execute_result"
    }
   ],
   "source": [
    "mnbc = MultinomialNB()\n",
    "mnbc"
   ]
  },
  {
   "cell_type": "code",
   "execution_count": 5,
   "id": "e95fea3d",
   "metadata": {},
   "outputs": [
    {
     "data": {
      "text/plain": [
       "MultinomialNB()"
      ]
     },
     "execution_count": 5,
     "metadata": {},
     "output_type": "execute_result"
    }
   ],
   "source": [
    "mnbc.fit(X_train, y_train)"
   ]
  },
  {
   "cell_type": "code",
   "execution_count": 6,
   "id": "ccfe0cd0",
   "metadata": {},
   "outputs": [],
   "source": [
    "mnbc_pred = mnbc.predict(X_test)"
   ]
  },
  {
   "cell_type": "code",
   "execution_count": 7,
   "id": "fa8b6b9a",
   "metadata": {},
   "outputs": [
    {
     "name": "stdout",
     "output_type": "stream",
     "text": [
      "The training accuracy is: \n",
      "0.8309375\n"
     ]
    }
   ],
   "source": [
    "# Training accuracy\n",
    "print(\"The training accuracy is: \")\n",
    "print(accuracy_score(y_train, mnbc.predict(X_train)))"
   ]
  },
  {
   "cell_type": "code",
   "execution_count": 8,
   "id": "0ce774f6",
   "metadata": {},
   "outputs": [
    {
     "name": "stdout",
     "output_type": "stream",
     "text": [
      "The test accuracy is: \n",
      "0.69125\n"
     ]
    }
   ],
   "source": [
    "# Test accuracy\n",
    "print(\"The test accuracy is: \")\n",
    "print(accuracy_score(y_test, mnbc_pred))"
   ]
  },
  {
   "cell_type": "code",
   "execution_count": 9,
   "id": "df6c27b6",
   "metadata": {},
   "outputs": [
    {
     "name": "stdout",
     "output_type": "stream",
     "text": [
      "Classification report\n",
      "              precision    recall  f1-score   support\n",
      "\n",
      "           0       0.71      0.76      0.74       319\n",
      "           1       0.66      0.76      0.71       280\n",
      "           2       0.72      0.49      0.58       201\n",
      "\n",
      "    accuracy                           0.69       800\n",
      "   macro avg       0.70      0.67      0.67       800\n",
      "weighted avg       0.69      0.69      0.69       800\n",
      "\n"
     ]
    }
   ],
   "source": [
    "# Classification report\n",
    "print(\"Classification report\")\n",
    "print(classification_report(y_test,mnbc_pred))"
   ]
  },
  {
   "cell_type": "code",
   "execution_count": 11,
   "id": "e228722c",
   "metadata": {},
   "outputs": [
    {
     "data": {
      "image/png": "[encoded data removed]",
      "text/plain": [
       "<Figure size 921.6x432 with 2 Axes>"
      ]
     },
     "metadata": {
      "needs_background": "light"
     },
     "output_type": "display_data"
    }
   ],
   "source": [
    "aux_df = df[['label','label_cat']].drop_duplicates().sort_values('label')\n",
    "conf_matrix = confusion_matrix(y_test,mnbc_pred)\n",
    "plt.figure(figsize=(12.8,6))\n",
    "sns.heatmap(conf_matrix, \n",
    "            annot=True,\n",
    "            xticklabels=aux_df['label_cat'].values, \n",
    "            yticklabels=aux_df['label_cat'].values,\n",
    "            cmap=\"Blues\")\n",
    "plt.ylabel('Predicted')\n",
    "plt.xlabel('Actual')\n",
    "plt.title('Confusion matrix')\n",
    "plt.show()"
   ]
  },
  {
   "cell_type": "code",
   "execution_count": 16,
   "id": "a8f4fd02",
   "metadata": {},
   "outputs": [
    {
     "data": {
      "text/html": [
       "<div>\n",
       "<style scoped>\n",
       "    .dataframe tbody tr th:only-of-type {\n",
       "        vertical-align: middle;\n",
       "    }\n",
       "\n",
       "    .dataframe tbody tr th {\n",
       "        vertical-align: top;\n",
       "    }\n",
       "\n",
       "    .dataframe thead th {\n",
       "        text-align: right;\n",
       "    }\n",
       "</style>\n",
       "<table border=\"1\" class=\"dataframe\">\n",
       "  <thead>\n",
       "    <tr style=\"text-align: right;\">\n",
       "      <th></th>\n",
       "      <th>Model</th>\n",
       "      <th>Training Set Accuracy</th>\n",
       "      <th>Test Set Accuracy</th>\n",
       "    </tr>\n",
       "  </thead>\n",
       "  <tbody>\n",
       "    <tr>\n",
       "      <th>0</th>\n",
       "      <td>Multinomial Naïve Bayes</td>\n",
       "      <td>0.830937</td>\n",
       "      <td>0.69125</td>\n",
       "    </tr>\n",
       "  </tbody>\n",
       "</table>\n",
       "</div>"
      ],
      "text/plain": [
       "                     Model  Training Set Accuracy  Test Set Accuracy\n",
       "0  Multinomial Naïve Bayes               0.830937            0.69125"
      ]
     },
     "execution_count": 16,
     "metadata": {},
     "output_type": "execute_result"
    }
   ],
   "source": [
    "d = {\n",
    "     'Model': 'Multinomial Naïve Bayes',\n",
    "     'Training Set Accuracy': accuracy_score(y_train, mnbc.predict(X_train)),\n",
    "     'Test Set Accuracy': accuracy_score(y_test, mnbc_pred)\n",
    "}\n",
    "\n",
    "df_models_mnbc = pd.DataFrame(d, index=[0])\n",
    "df_models_mnbc"
   ]
  },
  {
   "cell_type": "code",
   "execution_count": 17,
   "id": "8c5cd9b3",
   "metadata": {},
   "outputs": [],
   "source": [
    "with open('../Models/best_mnbc.pickle', 'wb') as output:\n",
    "    pickle.dump(mnbc, output)\n",
    "    \n",
    "with open('../Models/df_models_mnbc.pickle', 'wb') as output:\n",
    "    pickle.dump(df_models_mnbc, output)"
   ]
  },
  {
   "cell_type": "code",
   "execution_count": null,
   "id": "560a2ebc",
   "metadata": {},
   "outputs": [],
   "source": []
  }
 ],
 "metadata": {
  "kernelspec": {
   "display_name": "Python 3 (ipykernel)",
   "language": "python",
   "name": "python3"
  },
  "language_info": {
   "codemirror_mode": {
    "name": "ipython",
    "version": 3
   },
   "file_extension": ".py",
   "mimetype": "text/x-python",
   "name": "python",
   "nbconvert_exporter": "python",
   "pygments_lexer": "ipython3",
   "version": "3.9.7"
  }
 },
 "nbformat": 4,
 "nbformat_minor": 5
}
