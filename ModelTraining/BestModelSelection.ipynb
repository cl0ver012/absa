{
 "cells": [
  {
   "cell_type": "code",
   "execution_count": 7,
   "id": "352014ca",
   "metadata": {},
   "outputs": [],
   "source": [
    "import pickle\n",
    "import pandas as pd"
   ]
  },
  {
   "cell_type": "code",
   "execution_count": 8,
   "id": "9da3ec0c",
   "metadata": {},
   "outputs": [],
   "source": [
    "path_pickles = \"../Models/\"\n",
    "\n",
    "list_pickles = [\n",
    "    \"df_models_lrc.pickle\",\n",
    "    \"df_models_mnbc.pickle\",\n",
    "    \"df_models_xgbc.pickle\"\n",
    "]\n",
    "\n",
    "df_summary = pd.DataFrame()\n",
    "\n",
    "for pickle_ in list_pickles:\n",
    "    \n",
    "    path = path_pickles + pickle_\n",
    "    \n",
    "    with open(path, 'rb') as data:\n",
    "        df = pickle.load(data)\n",
    "\n",
    "    df_summary = df_summary.append(df)\n",
    "\n",
    "df_summary = df_summary.reset_index().drop('index', axis=1)"
   ]
  },
  {
   "cell_type": "code",
   "execution_count": 9,
   "id": "e8177c33",
   "metadata": {},
   "outputs": [
    {
     "data": {
      "text/html": [
       "<div>\n",
       "<style scoped>\n",
       "    .dataframe tbody tr th:only-of-type {\n",
       "        vertical-align: middle;\n",
       "    }\n",
       "\n",
       "    .dataframe tbody tr th {\n",
       "        vertical-align: top;\n",
       "    }\n",
       "\n",
       "    .dataframe thead th {\n",
       "        text-align: right;\n",
       "    }\n",
       "</style>\n",
       "<table border=\"1\" class=\"dataframe\">\n",
       "  <thead>\n",
       "    <tr style=\"text-align: right;\">\n",
       "      <th></th>\n",
       "      <th>Model</th>\n",
       "      <th>Training Set Accuracy</th>\n",
       "      <th>Test Set Accuracy</th>\n",
       "    </tr>\n",
       "  </thead>\n",
       "  <tbody>\n",
       "    <tr>\n",
       "      <th>0</th>\n",
       "      <td>Logistic Regression</td>\n",
       "      <td>0.871250</td>\n",
       "      <td>0.70750</td>\n",
       "    </tr>\n",
       "    <tr>\n",
       "      <th>1</th>\n",
       "      <td>Multinomial Naïve Bayes</td>\n",
       "      <td>0.830937</td>\n",
       "      <td>0.69125</td>\n",
       "    </tr>\n",
       "    <tr>\n",
       "      <th>2</th>\n",
       "      <td>eXtreme Gradient Boosting Classifier</td>\n",
       "      <td>0.900312</td>\n",
       "      <td>0.67250</td>\n",
       "    </tr>\n",
       "  </tbody>\n",
       "</table>\n",
       "</div>"
      ],
      "text/plain": [
       "                                  Model  Training Set Accuracy  \\\n",
       "0                   Logistic Regression               0.871250   \n",
       "1               Multinomial Naïve Bayes               0.830937   \n",
       "2  eXtreme Gradient Boosting Classifier               0.900312   \n",
       "\n",
       "   Test Set Accuracy  \n",
       "0            0.70750  \n",
       "1            0.69125  \n",
       "2            0.67250  "
      ]
     },
     "execution_count": 9,
     "metadata": {},
     "output_type": "execute_result"
    }
   ],
   "source": [
    "df_summary"
   ]
  },
  {
   "cell_type": "code",
   "execution_count": 10,
   "id": "f614fd9e",
   "metadata": {},
   "outputs": [
    {
     "data": {
      "text/html": [
       "<div>\n",
       "<style scoped>\n",
       "    .dataframe tbody tr th:only-of-type {\n",
       "        vertical-align: middle;\n",
       "    }\n",
       "\n",
       "    .dataframe tbody tr th {\n",
       "        vertical-align: top;\n",
       "    }\n",
       "\n",
       "    .dataframe thead th {\n",
       "        text-align: right;\n",
       "    }\n",
       "</style>\n",
       "<table border=\"1\" class=\"dataframe\">\n",
       "  <thead>\n",
       "    <tr style=\"text-align: right;\">\n",
       "      <th></th>\n",
       "      <th>Model</th>\n",
       "      <th>Training Set Accuracy</th>\n",
       "      <th>Test Set Accuracy</th>\n",
       "    </tr>\n",
       "  </thead>\n",
       "  <tbody>\n",
       "    <tr>\n",
       "      <th>0</th>\n",
       "      <td>Logistic Regression</td>\n",
       "      <td>0.871250</td>\n",
       "      <td>0.70750</td>\n",
       "    </tr>\n",
       "    <tr>\n",
       "      <th>1</th>\n",
       "      <td>Multinomial Naïve Bayes</td>\n",
       "      <td>0.830937</td>\n",
       "      <td>0.69125</td>\n",
       "    </tr>\n",
       "    <tr>\n",
       "      <th>2</th>\n",
       "      <td>eXtreme Gradient Boosting Classifier</td>\n",
       "      <td>0.900312</td>\n",
       "      <td>0.67250</td>\n",
       "    </tr>\n",
       "  </tbody>\n",
       "</table>\n",
       "</div>"
      ],
      "text/plain": [
       "                                  Model  Training Set Accuracy  \\\n",
       "0                   Logistic Regression               0.871250   \n",
       "1               Multinomial Naïve Bayes               0.830937   \n",
       "2  eXtreme Gradient Boosting Classifier               0.900312   \n",
       "\n",
       "   Test Set Accuracy  \n",
       "0            0.70750  \n",
       "1            0.69125  \n",
       "2            0.67250  "
      ]
     },
     "execution_count": 10,
     "metadata": {},
     "output_type": "execute_result"
    }
   ],
   "source": [
    "df_summary.sort_values('Test Set Accuracy', ascending=False)"
   ]
  },
  {
   "cell_type": "code",
   "execution_count": null,
   "id": "f554e56e",
   "metadata": {},
   "outputs": [],
   "source": []
  }
 ],
 "metadata": {
  "kernelspec": {
   "display_name": "Python 3 (ipykernel)",
   "language": "python",
   "name": "python3"
  },
  "language_info": {
   "codemirror_mode": {
    "name": "ipython",
    "version": 3
   },
   "file_extension": ".py",
   "mimetype": "text/x-python",
   "name": "python",
   "nbconvert_exporter": "python",
   "pygments_lexer": "ipython3",
   "version": "3.9.7"
  }
 },
 "nbformat": 4,
 "nbformat_minor": 5
}
